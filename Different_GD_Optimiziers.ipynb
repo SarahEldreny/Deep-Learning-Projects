{
  "nbformat": 4,
  "nbformat_minor": 0,
  "metadata": {
    "colab": {
      "provenance": [],
      "authorship_tag": "ABX9TyNkM3K8bvGZjrlu8lI1xYGB",
      "include_colab_link": true
    },
    "kernelspec": {
      "name": "python3",
      "display_name": "Python 3"
    },
    "language_info": {
      "name": "python"
    }
  },
  "cells": [
    {
      "cell_type": "markdown",
      "metadata": {
        "id": "view-in-github",
        "colab_type": "text"
      },
      "source": [
        "<a href=\"https://colab.research.google.com/github/SarahEldreny/Deep-Learning-Projects/blob/main/Different_GD_Optimiziers.ipynb\" target=\"_parent\"><img src=\"https://colab.research.google.com/assets/colab-badge.svg\" alt=\"Open In Colab\"/></a>"
      ]
    },
    {
      "cell_type": "code",
      "source": [
        "import keras\n",
        "from keras.datasets import mnist\n",
        "from keras.models import Sequential\n",
        "from keras.layers import Dense, Dropout, Flatten\n",
        "from keras.layers import Conv2D, MaxPooling2D\n",
        "from keras import backend as K\n",
        "(x_train, y_train), (x_test, y_test) = mnist.load_data()\n",
        "print(x_train.shape, y_train.shape)"
      ],
      "metadata": {
        "colab": {
          "base_uri": "https://localhost:8080/"
        },
        "id": "gAFGtXO65uVY",
        "outputId": "6d502465-bd56-41b2-e2f3-360ebd526081"
      },
      "execution_count": 1,
      "outputs": [
        {
          "output_type": "stream",
          "name": "stdout",
          "text": [
            "(60000, 28, 28) (60000,)\n"
          ]
        }
      ]
    },
    {
      "cell_type": "code",
      "execution_count": 2,
      "metadata": {
        "id": "8FgBZwB65pWu"
      },
      "outputs": [],
      "source": [
        "x_train= x_train.reshape(x_train.shape[0],28,28,1)\n",
        "x_test=  x_test.reshape(x_test.shape[0],28,28,1)\n",
        "input_shape=(28,28,1)\n",
        "y_train=keras.utils.to_categorical(y_train)#,num_classes=)\n",
        "y_test=keras.utils.to_categorical(y_test)#, num_classes)\n",
        "x_train= x_train.astype('float32')\n",
        "x_test= x_test.astype('float32')\n",
        "x_train /= 255\n",
        "x_test /=255"
      ]
    },
    {
      "cell_type": "code",
      "source": [
        "batch_size=64\n",
        "\n",
        "num_classes=10\n",
        "\n",
        "epochs=10\n",
        "\n",
        "def build_model(optimizer):\n",
        "\n",
        "  model=Sequential()\n",
        "\n",
        "  model.add(Conv2D(32,kernel_size=(3,3),activation='relu',input_shape=input_shape))\n",
        "\n",
        "  model.add(MaxPooling2D(pool_size=(2,2)))\n",
        "\n",
        "  model.add(Dropout(0.25))\n",
        "\n",
        "  model.add(Flatten())\n",
        "\n",
        "  model.add(Dense(256, activation='relu'))\n",
        "\n",
        "  model.add(Dropout(0.5))\n",
        "\n",
        "  model.add(Dense(num_classes, activation='softmax'))\n",
        "\n",
        "  model.compile(loss=keras.losses.categorical_crossentropy, optimizer= optimizer, metrics=['accuracy'])\n",
        "\n",
        "  return model"
      ],
      "metadata": {
        "id": "5CQhs_Q65ysw"
      },
      "execution_count": 3,
      "outputs": []
    },
    {
      "cell_type": "code",
      "source": [
        "optimizers = ['Adadelta', 'Adagrad', 'Adam', 'RMSprop', 'SGD']\n",
        "\n",
        "for i in optimizers:\n",
        "\n",
        "  model = build_model(i)\n",
        "\n",
        "  hist=model.fit(x_train, y_train, batch_size=batch_size, epochs=epochs, verbose=1, validation_data=(x_test,y_test))"
      ],
      "metadata": {
        "colab": {
          "base_uri": "https://localhost:8080/"
        },
        "id": "bwhfw5ao51h9",
        "outputId": "6d962aeb-1c49-4738-81bb-90c3faaad26c"
      },
      "execution_count": null,
      "outputs": [
        {
          "output_type": "stream",
          "name": "stdout",
          "text": [
            "Epoch 1/10\n",
            "366/938 [==========>...................] - ETA: 43s - loss: 2.2981 - accuracy: 0.1174"
          ]
        }
      ]
    },
    {
      "cell_type": "code",
      "source": [],
      "metadata": {
        "id": "elT4-7N-54sZ"
      },
      "execution_count": null,
      "outputs": []
    }
  ]
}